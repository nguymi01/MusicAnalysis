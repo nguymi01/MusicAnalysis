{
 "cells": [
  {
   "cell_type": "code",
   "execution_count": 1,
   "metadata": {},
   "outputs": [],
   "source": [
    "#Wikipedia scraping for track and artist names of Billboard hits\n",
    "import requests as rq\n",
    "from bs4 import BeautifulSoup\n",
    "import pandas as pd\n",
    "\n",
    "#Wikipedia has seperate page for each year.\n",
    "#Iterate through each page\n",
    "for year in range (1960,2020):\n",
    "    url_text = str('https://en.wikipedia.org/wiki/Billboard_Year-End_Hot_100_singles_of_' + str(year))\n",
    "    #Obtain html script of the page\n",
    "    website_url = rq.get(url_text).text\n",
    "  \n",
    "    soup = BeautifulSoup(website_url, 'lxml')\n",
    "    #print(soup.prettify())\n",
    "    \n",
    "    #Data stored in a table and in the html script this is under 'wikitable sortable'\n",
    "    My_table = soup.find('table', {'class' : 'wikitable sortable'}).tbody\n",
    "    \n",
    "    #Each individual row marked by 'tr'\n",
    "    rows = My_table.find_all('tr')\n",
    "    \n",
    "    #Create table columns for data frame\n",
    "    columns = [v.text.replace('\\n', '') for v in rows[0].find_all('th')]\n",
    "    columns.append('year')\n",
    "    df = pd.DataFrame(columns = columns)\n",
    "\n",
    "    #Iterate through each row\n",
    "    for i in range(1,len(rows)):\n",
    "        #Track and artist name marked by 'td'\n",
    "        #Append values to a list \n",
    "        tds = rows[i].find_all('td')\n",
    "        if len(tds) == 3:\n",
    "            values = [td.text for td in tds]\n",
    "            values.append(year)\n",
    "        else:\n",
    "            values = [i, tds[0].text, tds[1].text, year] \n",
    "        #Add list of values to data frame\n",
    "        df = df.append(pd.Series(values,index=columns), ignore_index=True)\n",
    "    \n",
    "    #Store to a csv file\n",
    "    df.to_csv(r'billboard_data.csv', mode='a', index=False)\n"
   ]
  },
  {
   "cell_type": "code",
   "execution_count": null,
   "metadata": {},
   "outputs": [],
   "source": []
  }
 ],
 "metadata": {
  "kernelspec": {
   "display_name": "Python 3",
   "language": "python",
   "name": "python3"
  },
  "language_info": {
   "codemirror_mode": {
    "name": "ipython",
    "version": 3
   },
   "file_extension": ".py",
   "mimetype": "text/x-python",
   "name": "python",
   "nbconvert_exporter": "python",
   "pygments_lexer": "ipython3",
   "version": "3.7.4"
  }
 },
 "nbformat": 4,
 "nbformat_minor": 2
}
